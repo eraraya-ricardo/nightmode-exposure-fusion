{
 "cells": [
  {
   "cell_type": "code",
   "execution_count": 5,
   "metadata": {},
   "outputs": [],
   "source": [
    "import cv2\n",
    "import numpy as np"
   ]
  },
  {
   "cell_type": "code",
   "execution_count": 4,
   "metadata": {},
   "outputs": [],
   "source": [
    "full_mertens = cv2.imread('./fusion_mertens_filtered.jpg')\n",
    "full_auto = cv2.imread('./auto_samsung.jpg')"
   ]
  },
  {
   "cell_type": "code",
   "execution_count": 9,
   "metadata": {},
   "outputs": [
    {
     "data": {
      "text/plain": [
       "True"
      ]
     },
     "execution_count": 9,
     "metadata": {},
     "output_type": "execute_result"
    }
   ],
   "source": [
    "cv2.imwrite('./comparison_full.jpg', np.concatenate((full_auto, full_mertens), axis=1))"
   ]
  },
  {
   "cell_type": "code",
   "execution_count": 20,
   "metadata": {},
   "outputs": [],
   "source": [
    "things = ['fence.jpg', 'grass.jpg', 'sign.jpg', 'tree.jpg']\n",
    "\n",
    "for thing in things:\n",
    "    thing_mertens = cv2.imread('./comparison/fusion_mertens_filtered_' + thing)\n",
    "    thing_auto = cv2.imread('./comparison/auto_samsung_' + thing)\n",
    "    \n",
    "    if thing_mertens.shape[0] < thing_auto.shape[0]:\n",
    "        thing_mertens = np.concatenate((thing_mertens, np.zeros((thing_auto.shape[0] - thing_mertens.shape[0], thing_mertens.shape[1], 3))), axis=0)\n",
    "    \n",
    "    if thing_auto.shape[0] < thing_mertens.shape[0]:\n",
    "        thing_auto = np.concatenate((thing_auto, np.zeros((thing_mertens.shape[0] - thing_auto.shape[0], thing_auto.shape[1], 3))), axis=0)\n",
    "    \n",
    "    cv2.imwrite('./comparison_' + thing, np.concatenate((thing_auto, thing_mertens), axis=1))"
   ]
  }
 ],
 "metadata": {
  "kernelspec": {
   "display_name": "Python 3",
   "language": "python",
   "name": "python3"
  },
  "language_info": {
   "codemirror_mode": {
    "name": "ipython",
    "version": 3
   },
   "file_extension": ".py",
   "mimetype": "text/x-python",
   "name": "python",
   "nbconvert_exporter": "python",
   "pygments_lexer": "ipython3",
   "version": "3.7.4"
  }
 },
 "nbformat": 4,
 "nbformat_minor": 2
}
