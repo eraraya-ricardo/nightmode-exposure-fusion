{
 "cells": [
  {
   "cell_type": "code",
   "execution_count": 1,
   "metadata": {},
   "outputs": [],
   "source": [
    "import numpy as np\n",
    "import matplotlib.pyplot as plt\n",
    "\n",
    "import cv2\n",
    "\n",
    "from skimage import data\n",
    "from skimage.registration import phase_cross_correlation\n",
    "from skimage.registration._phase_cross_correlation import _upsampled_dft\n",
    "from scipy.ndimage import fourier_shift\n",
    "\n",
    "from skimage import transform\n",
    "from skimage import img_as_float\n",
    "\n",
    "from skimage.filters import gaussian\n",
    "\n",
    "from scipy import ndimage"
   ]
  },
  {
   "cell_type": "code",
   "execution_count": 2,
   "metadata": {},
   "outputs": [],
   "source": [
    "def histogram(image, upper_lim):\n",
    "    hist = np.zeros((upper_lim + 1,))\n",
    "    bins = np.array(np.linspace(0, upper_lim, upper_lim + 1), dtype=int)\n",
    "\n",
    "    for pix in np.array(image.flatten(), dtype=int):\n",
    "        hist[pix] += 1\n",
    "        \n",
    "    return hist, bins"
   ]
  },
  {
   "cell_type": "code",
   "execution_count": 3,
   "metadata": {},
   "outputs": [],
   "source": [
    "def histogram_cumul(image, upper_lim):\n",
    "    hist, bins = histogram(image, upper_lim)\n",
    "    \n",
    "    hist_cumul = np.zeros((len(hist),))\n",
    "    \n",
    "    for i in range(len(hist)):\n",
    "        hist_cumul[i] = np.sum(hist[0:(i+1)])\n",
    "        \n",
    "    return hist_cumul, bins"
   ]
  },
  {
   "cell_type": "code",
   "execution_count": 4,
   "metadata": {},
   "outputs": [],
   "source": [
    "def histogram_equalization(image, upper_lim):\n",
    "    cdf, bins = histogram_cumul(image, upper_lim)\n",
    "    cdf_min = cdf.min()\n",
    "    MN = image.shape[0]*image.shape[1]\n",
    "    \n",
    "    h = np.zeros((len(cdf),))\n",
    "    \n",
    "    for v in range(len(cdf)):\n",
    "        h[v] = np.round(upper_lim*(cdf[v] - cdf_min)/(MN - cdf_min))\n",
    "    \n",
    "    h = np.array(h, dtype=int)\n",
    "    image_new = image.copy()\n",
    "    \n",
    "    for i in range(image.shape[0]):\n",
    "        for j in range(image.shape[1]):\n",
    "            image_new[i,j] = h[image_new[i,j]]\n",
    "    \n",
    "    return image_new, h, bins"
   ]
  },
  {
   "cell_type": "markdown",
   "metadata": {},
   "source": [
    "# BGR to GS Conversion, Histogram Equalization, Image Registration"
   ]
  },
  {
   "cell_type": "code",
   "execution_count": 198,
   "metadata": {},
   "outputs": [
    {
     "name": "stdout",
     "output_type": "stream",
     "text": [
      "Image loading, GS conversion, histogram equalization: starting...\n",
      "14.285714285714286%\n",
      "28.571428571428573%\n",
      "42.857142857142854%\n",
      "57.142857142857146%\n",
      "71.42857142857143%\n",
      "85.71428571428571%\n",
      "100.0%\n",
      "Image loading, GS conversion, histogram equalization: finished.\n",
      "Image registration: starting...\n",
      "16.666666666666668%\n",
      "33.333333333333336%\n",
      "50.0%\n",
      "66.66666666666667%\n",
      "83.33333333333333%\n",
      "100.0%\n",
      "Image registration: finished.\n"
     ]
    }
   ],
   "source": [
    "n_image = 7\n",
    "\n",
    "image_color = []\n",
    "image_gs = []\n",
    "image_he = []\n",
    "image_reg_tf = []\n",
    "\n",
    "file_name = \"./Mobil/\"\n",
    "\n",
    "print(\"Image loading, GS conversion, histogram equalization: starting...\")\n",
    "for i in range(n_image):\n",
    "    # load image\n",
    "    image_color += [cv2.imread(file_name + str(i+1) + \".jpg\")]\n",
    "    # convert to grayscale\n",
    "    image_gs += [cv2.cvtColor(image_color[-1], cv2.COLOR_BGR2GRAY)]\n",
    "    # histogram equalization\n",
    "    img_he, _, _ = histogram_equalization(image_gs[-1], 255)\n",
    "    image_he += [img_he]\n",
    "    print(str(100*(i+1)/n_image) + \"%\")\n",
    "print(\"Image loading, GS conversion, histogram equalization: finished.\")\n",
    "\n",
    "print(\"Image registration: starting...\")\n",
    "# image registration\n",
    "for i in range(n_image-1):\n",
    "    shift, _, _ = phase_cross_correlation(image_he[0], image_he[i+1])\n",
    "    tform = transform.EuclideanTransform(\n",
    "        #rotation=np.pi / 12.,\n",
    "        translation = (np.round(shift)[1], np.round(shift)[0])\n",
    "        )\n",
    "    img_reg = img_as_float(image_color[i+1])\n",
    "    img_tf = transform.warp(img_reg, tform.inverse)\n",
    "    image_reg_tf += [img_tf]\n",
    "    cv2.imwrite(file_name + str(i+2) + \"_reg.jpg\", img_tf*255)\n",
    "    print(str(100*(i+1)/(n_image-1)) + \"%\")\n",
    "print(\"Image registration: finished.\")"
   ]
  },
  {
   "cell_type": "markdown",
   "metadata": {},
   "source": [
    "# HDR"
   ]
  },
  {
   "cell_type": "markdown",
   "metadata": {},
   "source": [
    "## Mobil/Car"
   ]
  },
  {
   "cell_type": "code",
   "execution_count": 21,
   "metadata": {},
   "outputs": [],
   "source": [
    "# Read all the files with OpenCV\n",
    "file_name = \"./Mobil/\"\n",
    "files = ['2_reg.jpg', '4_reg.jpg', '6_reg.jpg']\n",
    "for i in range(len(files)):\n",
    "    files[i] = file_name + files[i]\n",
    "    \n",
    "images = list([cv2.imread(f) for f in files])\n",
    "\n",
    "# Compute the exposure times in seconds\n",
    "exposures = np.float32([1. / t for t in [10, 40, 160]])"
   ]
  },
  {
   "cell_type": "code",
   "execution_count": 22,
   "metadata": {},
   "outputs": [],
   "source": [
    "# Exposure fusion using Mertens\n",
    "merge_mertens = cv2.createMergeMertens()\n",
    "merge_mertens.setContrastWeight(0.8)\n",
    "merge_mertens.setSaturationWeight(0.8)\n",
    "merge_mertens.setExposureWeight(0.5)\n",
    "\n",
    "res_mertens = merge_mertens.process(images)"
   ]
  },
  {
   "cell_type": "code",
   "execution_count": 23,
   "metadata": {},
   "outputs": [],
   "source": [
    "# Convert datatype to 8-bit\n",
    "res_mertens_8bit = np.clip(res_mertens*255, 0, 255).astype('uint8')"
   ]
  },
  {
   "cell_type": "code",
   "execution_count": 24,
   "metadata": {},
   "outputs": [],
   "source": [
    "# Apply gaussian filter\n",
    "filtered_mertens = 255*gaussian(res_mertens_8bit.copy(), sigma=1, multichannel=True)"
   ]
  },
  {
   "cell_type": "code",
   "execution_count": 25,
   "metadata": {},
   "outputs": [
    {
     "data": {
      "text/plain": [
       "True"
      ]
     },
     "execution_count": 25,
     "metadata": {},
     "output_type": "execute_result"
    }
   ],
   "source": [
    "# Save the images\n",
    "\n",
    "cv2.imwrite(file_name + \"fusion_mertens.jpg\", res_mertens_8bit)\n",
    "\n",
    "cv2.imwrite(file_name + \"fusion_mertens_filtered.jpg\", filtered_mertens)"
   ]
  },
  {
   "cell_type": "markdown",
   "metadata": {},
   "source": [
    "## Kebun/Garden"
   ]
  },
  {
   "cell_type": "code",
   "execution_count": 5,
   "metadata": {},
   "outputs": [],
   "source": [
    "# Read all the files with OpenCV\n",
    "file_name = \"./Kebun/\"\n",
    "files = ['4_reg.jpg', '6_reg.jpg', '8_reg.jpg']\n",
    "for i in range(len(files)):\n",
    "    files[i] = file_name + files[i]\n",
    "    \n",
    "images = list([cv2.imread(f) for f in files])\n",
    "\n",
    "# Compute the exposure times in seconds\n",
    "exposures = np.float32([2, 1/2, 1/8])"
   ]
  },
  {
   "cell_type": "code",
   "execution_count": 17,
   "metadata": {},
   "outputs": [],
   "source": [
    "# Exposure fusion using Mertens\n",
    "merge_mertens = cv2.createMergeMertens()\n",
    "merge_mertens.setContrastWeight(0.8)\n",
    "merge_mertens.setSaturationWeight(0.8)\n",
    "merge_mertens.setExposureWeight(0.5)\n",
    "\n",
    "res_mertens = merge_mertens.process(images)"
   ]
  },
  {
   "cell_type": "code",
   "execution_count": 18,
   "metadata": {},
   "outputs": [],
   "source": [
    "# Convert datatype to 8-bit\n",
    "res_mertens_8bit = np.clip(res_mertens*255, 0, 255).astype('uint8')"
   ]
  },
  {
   "cell_type": "code",
   "execution_count": 19,
   "metadata": {},
   "outputs": [],
   "source": [
    "# Apply gaussian filter\n",
    "filtered_mertens = 255*gaussian(res_mertens_8bit.copy(), sigma=1, multichannel=True)"
   ]
  },
  {
   "cell_type": "code",
   "execution_count": 20,
   "metadata": {},
   "outputs": [
    {
     "data": {
      "text/plain": [
       "True"
      ]
     },
     "execution_count": 20,
     "metadata": {},
     "output_type": "execute_result"
    }
   ],
   "source": [
    "# Save the images\n",
    "\n",
    "cv2.imwrite(file_name + \"fusion_mertens.jpg\", res_mertens_8bit)\n",
    "\n",
    "cv2.imwrite(file_name + \"fusion_mertens_filtered.jpg\", filtered_mertens)"
   ]
  },
  {
   "cell_type": "code",
   "execution_count": null,
   "metadata": {},
   "outputs": [],
   "source": []
  }
 ],
 "metadata": {
  "kernelspec": {
   "display_name": "Python 3",
   "language": "python",
   "name": "python3"
  },
  "language_info": {
   "codemirror_mode": {
    "name": "ipython",
    "version": 3
   },
   "file_extension": ".py",
   "mimetype": "text/x-python",
   "name": "python",
   "nbconvert_exporter": "python",
   "pygments_lexer": "ipython3",
   "version": "3.7.4"
  }
 },
 "nbformat": 4,
 "nbformat_minor": 2
}
